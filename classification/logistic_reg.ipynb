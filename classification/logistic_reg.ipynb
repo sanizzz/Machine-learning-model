{
 "cells": [
  {
   "cell_type": "markdown",
   "id": "86b384d2",
   "metadata": {},
   "source": [
    "LOGISTIC REGRESSION"
   ]
  },
  {
   "cell_type": "markdown",
   "id": "aca18fd1",
   "metadata": {},
   "source": []
  }
 ],
 "metadata": {
  "language_info": {
   "name": "python"
  }
 },
 "nbformat": 4,
 "nbformat_minor": 5
}
