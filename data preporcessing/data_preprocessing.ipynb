{
 "cells": [
  {
   "cell_type": "code",
   "execution_count": 1,
   "id": "a1b9db6b",
   "metadata": {},
   "outputs": [],
   "source": [
    "import pandas as pd\n",
    "import numpy as np\n",
    "import matplotlib.pyplot as plt "
   ]
  },
  {
   "cell_type": "markdown",
   "id": "9ce38b96",
   "metadata": {},
   "source": [
    "Importing the data set and slicing them\n"
   ]
  },
  {
   "cell_type": "code",
   "execution_count": 2,
   "id": "faab101e",
   "metadata": {},
   "outputs": [],
   "source": [
    "data = pd.read_csv(r\"C:\\Users\\sanid\\OneDrive\\Desktop\\machine-learning-full\\data preporcessing\\Data.csv\")"
   ]
  },
  {
   "cell_type": "code",
   "execution_count": 3,
   "id": "05aec26b",
   "metadata": {},
   "outputs": [
    {
     "name": "stdout",
     "output_type": "stream",
     "text": [
      "   Country   Age   Salary Purchased\n",
      "0   France  44.0  72000.0        No\n",
      "1    Spain  27.0  48000.0       Yes\n",
      "2  Germany  30.0  54000.0        No\n",
      "3    Spain  38.0  61000.0        No\n",
      "4  Germany  40.0      NaN       Yes\n",
      "5   France  35.0  58000.0       Yes\n",
      "6    Spain   NaN  52000.0        No\n",
      "7   France  48.0  79000.0       Yes\n",
      "8  Germany  50.0  83000.0        No\n",
      "9   France  37.0  67000.0       Yes\n"
     ]
    }
   ],
   "source": [
    "print(data)"
   ]
  },
  {
   "cell_type": "code",
   "execution_count": 4,
   "id": "48d11cf0",
   "metadata": {},
   "outputs": [],
   "source": [
    "X_features = data.iloc[:, :-1].values # takes index of rows and columns  (all rows and all columns till the last column)\n",
    "Y_dependent = data.iloc[:, -1].values #only last columns"
   ]
  },
  {
   "cell_type": "code",
   "execution_count": 5,
   "id": "c7579c35",
   "metadata": {},
   "outputs": [
    {
     "name": "stdout",
     "output_type": "stream",
     "text": [
      "[['France' 44.0 72000.0]\n",
      " ['Spain' 27.0 48000.0]\n",
      " ['Germany' 30.0 54000.0]\n",
      " ['Spain' 38.0 61000.0]\n",
      " ['Germany' 40.0 nan]\n",
      " ['France' 35.0 58000.0]\n",
      " ['Spain' nan 52000.0]\n",
      " ['France' 48.0 79000.0]\n",
      " ['Germany' 50.0 83000.0]\n",
      " ['France' 37.0 67000.0]]\n"
     ]
    }
   ],
   "source": [
    "print(X_features)"
   ]
  },
  {
   "cell_type": "markdown",
   "id": "8344a726",
   "metadata": {},
   "source": [
    "Taking care of missing data"
   ]
  },
  {
   "cell_type": "code",
   "execution_count": 6,
   "id": "c1e62fa3",
   "metadata": {},
   "outputs": [],
   "source": [
    "from sklearn.impute import SimpleImputer #salary has a missing value to we replacing it with average of the salary\n",
    "imputer = SimpleImputer(missing_values=np.nan,strategy=\"mean\") # stratergy can be median or anything else bbut mean is recommended\n",
    "imputer.fit(X_features[:, 1:3]) # look for missing values which is a no not text so all rows and column age n salaray\n",
    "X_features[:, 1:3] = imputer.transform(X_features[:, 1:3]) #updated values"
   ]
  },
  {
   "cell_type": "code",
   "execution_count": 7,
   "id": "46fad1d6",
   "metadata": {},
   "outputs": [
    {
     "name": "stdout",
     "output_type": "stream",
     "text": [
      "[['France' 44.0 72000.0]\n",
      " ['Spain' 27.0 48000.0]\n",
      " ['Germany' 30.0 54000.0]\n",
      " ['Spain' 38.0 61000.0]\n",
      " ['Germany' 40.0 63777.77777777778]\n",
      " ['France' 35.0 58000.0]\n",
      " ['Spain' 38.77777777777778 52000.0]\n",
      " ['France' 48.0 79000.0]\n",
      " ['Germany' 50.0 83000.0]\n",
      " ['France' 37.0 67000.0]]\n"
     ]
    }
   ],
   "source": [
    "print(X_features)"
   ]
  },
  {
   "cell_type": "markdown",
   "id": "e54e581e",
   "metadata": {},
   "source": [
    "HANDLING CATEGORICAL DATA"
   ]
  },
  {
   "cell_type": "markdown",
   "id": "9eaa259d",
   "metadata": {},
   "source": [
    "encoding indepnedant variable\n"
   ]
  },
  {
   "cell_type": "markdown",
   "id": "1525805f",
   "metadata": {},
   "source": [
    "using one hot encoding for categorical variables just each vector for each category\n",
    "\n",
    "column transformer params in this format -  transformers=[('encoder',OneHotEncoder(),[0])],  remainder=\n",
    "Key Parameters:\n",
    "transformers: List of tuples (name, transformer, columns) where:\n",
    "\n",
    "name: Identifier for the transformer.\n",
    "\n",
    "transformer: Transformer object (e.g., OneHotEncoder, StandardScaler).\n",
    "\n",
    "columns: Columns to apply the transformer (can be column names or indices).\n",
    "\n",
    "remainder:\n",
    "\n",
    "'drop' (default): Discard columns not specified in transformers.\n",
    "\n",
    "'passthrough': Keep remaining columns unchanged.\n"
   ]
  },
  {
   "cell_type": "code",
   "execution_count": 8,
   "id": "d6606648",
   "metadata": {},
   "outputs": [],
   "source": [
    "from sklearn.compose import ColumnTransformer\n",
    "from sklearn.preprocessing import OneHotEncoder\n",
    "ct = ColumnTransformer(transformers=[('encoder',OneHotEncoder(),[0])], remainder='passthrough')\n",
    "\n",
    "X_features=np.array(ct.fit_transform(X_features))  #outputs the new matrix of few features with one hot encoding the country column\n",
    "# doesnt return as a numpy array so we gotta explicitly do it \n"
   ]
  },
  {
   "cell_type": "code",
   "execution_count": 9,
   "id": "34be197f",
   "metadata": {},
   "outputs": [
    {
     "name": "stdout",
     "output_type": "stream",
     "text": [
      "[[1.0 0.0 0.0 44.0 72000.0]\n",
      " [0.0 0.0 1.0 27.0 48000.0]\n",
      " [0.0 1.0 0.0 30.0 54000.0]\n",
      " [0.0 0.0 1.0 38.0 61000.0]\n",
      " [0.0 1.0 0.0 40.0 63777.77777777778]\n",
      " [1.0 0.0 0.0 35.0 58000.0]\n",
      " [0.0 0.0 1.0 38.77777777777778 52000.0]\n",
      " [1.0 0.0 0.0 48.0 79000.0]\n",
      " [0.0 1.0 0.0 50.0 83000.0]\n",
      " [1.0 0.0 0.0 37.0 67000.0]]\n"
     ]
    }
   ],
   "source": [
    "print(X_features)"
   ]
  },
  {
   "cell_type": "markdown",
   "id": "c3d36034",
   "metadata": {},
   "source": [
    "ENCODING DEPNEDANT VARIABLE USING LABEL ENCODER\n"
   ]
  },
  {
   "cell_type": "code",
   "execution_count": 10,
   "id": "644bbaee",
   "metadata": {},
   "outputs": [],
   "source": [
    "from sklearn.preprocessing import LabelEncoder # for 2 categories\n",
    "le = LabelEncoder()\n",
    "Y_dependent = le.fit_transform(Y_dependent) # dont need to convert to np array cause we r predicting this"
   ]
  },
  {
   "cell_type": "code",
   "execution_count": 11,
   "id": "2d3258d1",
   "metadata": {},
   "outputs": [
    {
     "name": "stdout",
     "output_type": "stream",
     "text": [
      "[0 1 0 0 1 1 0 1 0 1]\n"
     ]
    }
   ],
   "source": [
    "print(Y_dependent)"
   ]
  },
  {
   "cell_type": "markdown",
   "id": "43f7328e",
   "metadata": {},
   "source": [
    "SPLITTING THE DATA INTO TEST AND TRAIN"
   ]
  },
  {
   "cell_type": "code",
   "execution_count": 12,
   "id": "561f94d0",
   "metadata": {},
   "outputs": [],
   "source": [
    "from sklearn.model_selection import train_test_split #format expected for future ml models to predict x_test in the end\n",
    "X_train,X_test,Y_train,Y_test = train_test_split(X_features,Y_dependent,test_size=0.2,random_state=1) #fixing seed for same split as tutoarial in udemy"
   ]
  },
  {
   "cell_type": "code",
   "execution_count": 13,
   "id": "f178e777",
   "metadata": {},
   "outputs": [
    {
     "name": "stdout",
     "output_type": "stream",
     "text": [
      "[[0.0 0.0 1.0 38.77777777777778 52000.0]\n",
      " [0.0 1.0 0.0 40.0 63777.77777777778]\n",
      " [1.0 0.0 0.0 44.0 72000.0]\n",
      " [0.0 0.0 1.0 38.0 61000.0]\n",
      " [0.0 0.0 1.0 27.0 48000.0]\n",
      " [1.0 0.0 0.0 48.0 79000.0]\n",
      " [0.0 1.0 0.0 50.0 83000.0]\n",
      " [1.0 0.0 0.0 35.0 58000.0]]\n"
     ]
    }
   ],
   "source": [
    "print(X_train)"
   ]
  },
  {
   "cell_type": "code",
   "execution_count": 14,
   "id": "abeb5d38",
   "metadata": {},
   "outputs": [
    {
     "name": "stdout",
     "output_type": "stream",
     "text": [
      "[[0.0 1.0 0.0 30.0 54000.0]\n",
      " [1.0 0.0 0.0 37.0 67000.0]]\n"
     ]
    }
   ],
   "source": [
    "print(X_test)"
   ]
  },
  {
   "cell_type": "code",
   "execution_count": 15,
   "id": "8e9082eb",
   "metadata": {},
   "outputs": [
    {
     "name": "stdout",
     "output_type": "stream",
     "text": [
      "[0 1 0 0 1 1 0 1]\n"
     ]
    }
   ],
   "source": [
    "print(Y_train)"
   ]
  },
  {
   "cell_type": "code",
   "execution_count": 16,
   "id": "1f3d2d95",
   "metadata": {},
   "outputs": [
    {
     "name": "stdout",
     "output_type": "stream",
     "text": [
      "[0 1]\n"
     ]
    }
   ],
   "source": [
    "print(Y_test)"
   ]
  },
  {
   "cell_type": "markdown",
   "id": "1e975536",
   "metadata": {},
   "source": [
    "featurre scaling (used for some model only)"
   ]
  },
  {
   "cell_type": "code",
   "execution_count": 17,
   "id": "477e1ed9",
   "metadata": {},
   "outputs": [],
   "source": [
    "from sklearn.preprocessing import StandardScaler\n",
    "sc = StandardScaler()\n",
    "X_train[:, 3:] = sc.fit_transform(X_train[:, 3:])\n",
    "X_test[:, 3:] = sc.transform(X_test[:, 3:])"
   ]
  },
  {
   "cell_type": "code",
   "execution_count": 18,
   "id": "14e41746",
   "metadata": {},
   "outputs": [
    {
     "name": "stdout",
     "output_type": "stream",
     "text": [
      "[[0.0 0.0 1.0 -0.19159184384578545 -1.0781259408412425]\n",
      " [0.0 1.0 0.0 -0.014117293757057777 -0.07013167641635372]\n",
      " [1.0 0.0 0.0 0.566708506533324 0.633562432710455]\n",
      " [0.0 0.0 1.0 -0.30453019390224867 -0.30786617274297867]\n",
      " [0.0 0.0 1.0 -1.9018011447007988 -1.420463615551582]\n",
      " [1.0 0.0 0.0 1.1475343068237058 1.232653363453549]\n",
      " [0.0 1.0 0.0 1.4379472069688968 1.5749910381638885]\n",
      " [1.0 0.0 0.0 -0.7401495441200351 -0.5646194287757332]]\n"
     ]
    }
   ],
   "source": [
    "print(X_train)"
   ]
  },
  {
   "cell_type": "code",
   "execution_count": 19,
   "id": "c670e656",
   "metadata": {},
   "outputs": [
    {
     "name": "stdout",
     "output_type": "stream",
     "text": [
      "[[0.0 1.0 0.0 -1.4661817944830124 -0.9069571034860727]\n",
      " [1.0 0.0 0.0 -0.44973664397484414 0.2056403393225306]]\n"
     ]
    }
   ],
   "source": [
    "print(X_test)"
   ]
  }
 ],
 "metadata": {
  "kernelspec": {
   "display_name": "Python 3",
   "language": "python",
   "name": "python3"
  },
  "language_info": {
   "codemirror_mode": {
    "name": "ipython",
    "version": 3
   },
   "file_extension": ".py",
   "mimetype": "text/x-python",
   "name": "python",
   "nbconvert_exporter": "python",
   "pygments_lexer": "ipython3",
   "version": "3.11.9"
  }
 },
 "nbformat": 4,
 "nbformat_minor": 5
}
